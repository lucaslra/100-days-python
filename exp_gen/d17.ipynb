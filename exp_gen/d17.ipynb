{
 "cells": [
  {
   "cell_type": "code",
   "execution_count": 3,
   "id": "7d3e52da",
   "metadata": {},
   "outputs": [],
   "source": [
    "import random"
   ]
  },
  {
   "cell_type": "code",
   "execution_count": 4,
   "id": "4dd103a6",
   "metadata": {},
   "outputs": [],
   "source": [
    "NAMES = ['arnold schwarzenegger', 'alec baldwin', 'bob belderbos',\n",
    "         'julian sequeira', 'sandra bullock', 'keanu reeves',\n",
    "         'julbob pybites', 'bob belderbos', 'julian sequeira',\n",
    "         'al pacino', 'brad pitt', 'matt damon', 'brad pitt']"
   ]
  },
  {
   "cell_type": "markdown",
   "id": "620bc9bb",
   "metadata": {},
   "source": [
    "#### Can you write a simple list comprehension to convert these names to title case (brad pitt -> Brad Pitt)."
   ]
  },
  {
   "cell_type": "code",
   "execution_count": 5,
   "id": "88f56fbb",
   "metadata": {},
   "outputs": [
    {
     "data": {
      "text/plain": [
       "['Arnold Schwarzenegger',\n",
       " 'Alec Baldwin',\n",
       " 'Bob Belderbos',\n",
       " 'Julian Sequeira',\n",
       " 'Sandra Bullock',\n",
       " 'Keanu Reeves',\n",
       " 'Julbob Pybites',\n",
       " 'Bob Belderbos',\n",
       " 'Julian Sequeira',\n",
       " 'Al Pacino',\n",
       " 'Brad Pitt',\n",
       " 'Matt Damon',\n",
       " 'Brad Pitt']"
      ]
     },
     "execution_count": 5,
     "metadata": {},
     "output_type": "execute_result"
    }
   ],
   "source": [
    "[name.title() for name in NAMES]"
   ]
  },
  {
   "cell_type": "markdown",
   "id": "cb60e9e9",
   "metadata": {},
   "source": [
    "#### Or reverse the first and last name?"
   ]
  },
  {
   "cell_type": "code",
   "execution_count": 6,
   "id": "6c10090a",
   "metadata": {},
   "outputs": [
    {
     "data": {
      "text/plain": [
       "['schwarzenegger arnold',\n",
       " 'baldwin alec',\n",
       " 'belderbos bob',\n",
       " 'sequeira julian',\n",
       " 'bullock sandra',\n",
       " 'reeves keanu',\n",
       " 'pybites julbob',\n",
       " 'belderbos bob',\n",
       " 'sequeira julian',\n",
       " 'pacino al',\n",
       " 'pitt brad',\n",
       " 'damon matt',\n",
       " 'pitt brad']"
      ]
     },
     "execution_count": 6,
     "metadata": {},
     "output_type": "execute_result"
    }
   ],
   "source": [
    "[' '.join(reversed(name.split())) for name in NAMES]"
   ]
  },
  {
   "cell_type": "markdown",
   "id": "8f89e165",
   "metadata": {},
   "source": [
    "#### Then use this same list and make a little generator, for example to randomly return a pair of names, try to make this work:\n",
    "\n",
    "```python\n",
    "pairs = gen_pairs()\n",
    "for _ in range(10):\n",
    "    next(pairs)\n",
    "```"
   ]
  },
  {
   "cell_type": "code",
   "execution_count": 20,
   "id": "da1db0f7",
   "metadata": {},
   "outputs": [],
   "source": [
    "gen_NAMES = NAMES[:]\n",
    "random.shuffle(gen_NAMES)\n",
    "\n",
    "def get_name(idx):\n",
    "    return gen_NAMES[idx].split()[0].title()\n",
    "\n",
    "def gen_pairs():\n",
    "    idx = 1\n",
    "    while idx <= len(gen_NAMES) - 1:\n",
    "        r = f'{get_name(idx-1)} teams up with {get_name(idx)}'\n",
    "        idx+=2\n",
    "        yield r"
   ]
  },
  {
   "cell_type": "markdown",
   "id": "dc8690e2",
   "metadata": {},
   "source": [
    "#### Should print (values might change as random):\n",
    "\n",
    "```python\n",
    "Arnold teams up with Brad\n",
    "Alec teams up with Julian\n",
    "```"
   ]
  },
  {
   "cell_type": "code",
   "execution_count": 21,
   "id": "1bc4ec60",
   "metadata": {},
   "outputs": [
    {
     "name": "stdout",
     "output_type": "stream",
     "text": [
      "Brad teams up with Matt\n",
      "Alec teams up with Keanu\n",
      "Julian teams up with Arnold\n",
      "Bob teams up with Julian\n",
      "Julbob teams up with Bob\n",
      "Al teams up with Sandra\n"
     ]
    }
   ],
   "source": [
    "pairs = gen_pairs()\n",
    "for p in pairs:\n",
    "    print(p)"
   ]
  }
 ],
 "metadata": {
  "kernelspec": {
   "display_name": "Python 3",
   "language": "python",
   "name": "python3"
  },
  "language_info": {
   "codemirror_mode": {
    "name": "ipython",
    "version": 3
   },
   "file_extension": ".py",
   "mimetype": "text/x-python",
   "name": "python",
   "nbconvert_exporter": "python",
   "pygments_lexer": "ipython3",
   "version": "3.9.0"
  }
 },
 "nbformat": 4,
 "nbformat_minor": 5
}
