{
 "cells": [
  {
   "cell_type": "markdown",
   "id": "83437f1a",
   "metadata": {},
   "source": [
    "## D18 - 1"
   ]
  },
  {
   "cell_type": "code",
   "execution_count": 1,
   "id": "c83a8719",
   "metadata": {},
   "outputs": [],
   "source": [
    "NAMES = ['arnold schwarzenegger', 'alec baldwin', 'bob belderbos',\n",
    "         'julian sequeira', 'sandra bullock', 'keanu reeves',\n",
    "         'julbob pybites', 'bob belderbos', 'julian sequeira',\n",
    "         'al pacino', 'brad pitt', 'matt damon', 'brad pitt']"
   ]
  },
  {
   "cell_type": "code",
   "execution_count": 2,
   "id": "120dba42",
   "metadata": {},
   "outputs": [],
   "source": [
    "def dedup_and_title_case_names(names):\n",
    "    \"\"\"Should return a list of title cased names,\n",
    "       each name appears only once\"\"\"\n",
    "    return list({name.title() for name in names})"
   ]
  },
  {
   "cell_type": "code",
   "execution_count": 3,
   "id": "c1663210",
   "metadata": {},
   "outputs": [
    {
     "data": {
      "text/plain": [
       "['Matt Damon',\n",
       " 'Sandra Bullock',\n",
       " 'Brad Pitt',\n",
       " 'Julbob Pybites',\n",
       " 'Al Pacino',\n",
       " 'Bob Belderbos',\n",
       " 'Arnold Schwarzenegger',\n",
       " 'Julian Sequeira',\n",
       " 'Keanu Reeves',\n",
       " 'Alec Baldwin']"
      ]
     },
     "execution_count": 3,
     "metadata": {},
     "output_type": "execute_result"
    }
   ],
   "source": [
    "dedup_and_title_case_names(NAMES)"
   ]
  },
  {
   "cell_type": "code",
   "execution_count": 4,
   "id": "5a93ccde",
   "metadata": {},
   "outputs": [],
   "source": [
    "def sort_by_surname_desc(names):\n",
    "    \"\"\"Returns names list sorted desc by surname\"\"\"\n",
    "    names = dedup_and_title_case_names(names)\n",
    "    return [name for name in sorted(names, key=lambda n:n.split()[1], reverse=True)]"
   ]
  },
  {
   "cell_type": "code",
   "execution_count": 5,
   "id": "124f70bd",
   "metadata": {},
   "outputs": [
    {
     "data": {
      "text/plain": [
       "['Julian Sequeira',\n",
       " 'Arnold Schwarzenegger',\n",
       " 'Keanu Reeves',\n",
       " 'Julbob Pybites',\n",
       " 'Brad Pitt',\n",
       " 'Al Pacino',\n",
       " 'Matt Damon',\n",
       " 'Sandra Bullock',\n",
       " 'Bob Belderbos',\n",
       " 'Alec Baldwin']"
      ]
     },
     "execution_count": 5,
     "metadata": {},
     "output_type": "execute_result"
    }
   ],
   "source": [
    "sort_by_surname_desc(NAMES)"
   ]
  },
  {
   "cell_type": "code",
   "execution_count": 6,
   "id": "d098665d",
   "metadata": {},
   "outputs": [],
   "source": [
    "def shortest_first_name(names):\n",
    "    \"\"\"Returns the shortest first name (str).\n",
    "       You can assume there is only one shortest name.\n",
    "    \"\"\"\n",
    "    names = dedup_and_title_case_names(names)\n",
    "    return sorted([name.split()[0] for name in names], key=len)[0]"
   ]
  },
  {
   "cell_type": "code",
   "execution_count": 7,
   "id": "f201cd80",
   "metadata": {},
   "outputs": [
    {
     "data": {
      "text/plain": [
       "'Al'"
      ]
     },
     "execution_count": 7,
     "metadata": {},
     "output_type": "execute_result"
    }
   ],
   "source": [
    "shortest_first_name(NAMES)"
   ]
  },
  {
   "cell_type": "markdown",
   "id": "6620103f",
   "metadata": {},
   "source": [
    "# D18 - 2"
   ]
  },
  {
   "cell_type": "code",
   "execution_count": 8,
   "id": "7e30bca3",
   "metadata": {},
   "outputs": [],
   "source": [
    "bites = {6: 'PyBites Die Hard',\n",
    "         7: 'Parsing dates from logs',\n",
    "         9: 'Palindromes',\n",
    "         10: 'Practice exceptions',\n",
    "         11: 'Enrich a class with dunder methods',\n",
    "         12: 'Write a user validation function',\n",
    "         13: 'Convert dict in namedtuple/json',\n",
    "         14: 'Generate a table of n sequences',\n",
    "         15: 'Enumerate 2 sequences',\n",
    "         16: 'Special PyBites date generator',\n",
    "         17: 'Form teams from a group of friends',\n",
    "         18: 'Find the most common word',\n",
    "         19: 'Write a simple property',\n",
    "         20: 'Write a context manager',\n",
    "         21: 'Query a nested data structure'}\n",
    "exclude_bites = {6, 10, 16, 18, 21}"
   ]
  },
  {
   "cell_type": "code",
   "execution_count": 9,
   "id": "e6694f0a",
   "metadata": {},
   "outputs": [],
   "source": [
    "def filter_bites(bites=bites, bites_done=exclude_bites):\n",
    "    \"\"\"return the bites dict with the exclude_bites filtered out\"\"\"\n",
    "    return { x:y for x,y in bites.items() if x not in bites_done}"
   ]
  },
  {
   "cell_type": "code",
   "execution_count": 10,
   "id": "a2d6c7ac",
   "metadata": {},
   "outputs": [
    {
     "data": {
      "text/plain": [
       "{7: 'Parsing dates from logs',\n",
       " 9: 'Palindromes',\n",
       " 11: 'Enrich a class with dunder methods',\n",
       " 12: 'Write a user validation function',\n",
       " 13: 'Convert dict in namedtuple/json',\n",
       " 14: 'Generate a table of n sequences',\n",
       " 15: 'Enumerate 2 sequences',\n",
       " 17: 'Form teams from a group of friends',\n",
       " 19: 'Write a simple property',\n",
       " 20: 'Write a context manager'}"
      ]
     },
     "execution_count": 10,
     "metadata": {},
     "output_type": "execute_result"
    }
   ],
   "source": [
    "filter_bites()"
   ]
  },
  {
   "cell_type": "markdown",
   "id": "56ad03ba",
   "metadata": {},
   "source": [
    "# D18 - 3"
   ]
  },
  {
   "cell_type": "code",
   "execution_count": null,
   "id": "495e4d02",
   "metadata": {},
   "outputs": [],
   "source": []
  }
 ],
 "metadata": {
  "kernelspec": {
   "display_name": "Python 3",
   "language": "python",
   "name": "python3"
  },
  "language_info": {
   "codemirror_mode": {
    "name": "ipython",
    "version": 3
   },
   "file_extension": ".py",
   "mimetype": "text/x-python",
   "name": "python",
   "nbconvert_exporter": "python",
   "pygments_lexer": "ipython3",
   "version": "3.9.0"
  }
 },
 "nbformat": 4,
 "nbformat_minor": 5
}
